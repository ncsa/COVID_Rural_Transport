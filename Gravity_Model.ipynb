{
 "cells": [
  {
   "cell_type": "markdown",
   "metadata": {},
   "source": [
    "Gravity Modeling "
   ]
  },
  {
   "cell_type": "code",
   "execution_count": 3,
   "metadata": {},
   "outputs": [],
   "source": [
    "import pandas as pd"
   ]
  },
  {
   "cell_type": "code",
   "execution_count": 4,
   "metadata": {},
   "outputs": [],
   "source": [
    "# func calculating distance between two census tracts\n",
    "\n",
    "import math\n",
    "def getDistanceFromLatLonInMiles(lat1,lon1,lat2,lon2):\n",
    "  R = 6371 # Radius of the earth in km\n",
    "  dLat = deg2rad(lat2-lat1)  # deg2rad below\n",
    "  dLon = deg2rad(lon2-lon1) \n",
    "  a = math.sin(dLat/2) * math.sin(dLat/2) + math.cos(deg2rad(lat1)) * math.cos(deg2rad(lat2)) * math.sin(dLon/2) * math.sin(dLon/2)\n",
    "    \n",
    "  c = 2 * math.atan2(math.sqrt(a), math.sqrt(1-a)) \n",
    "  d = R * c # Distance in km\n",
    "  return d * 0.621371\n",
    "def deg2rad(deg):\n",
    "  return deg * (math.pi/180)"
   ]
  },
  {
   "cell_type": "code",
   "execution_count": 5,
   "metadata": {},
   "outputs": [
    {
     "data": {
      "text/html": [
       "<div>\n",
       "<style scoped>\n",
       "    .dataframe tbody tr th:only-of-type {\n",
       "        vertical-align: middle;\n",
       "    }\n",
       "\n",
       "    .dataframe tbody tr th {\n",
       "        vertical-align: top;\n",
       "    }\n",
       "\n",
       "    .dataframe thead th {\n",
       "        text-align: right;\n",
       "    }\n",
       "</style>\n",
       "<table border=\"1\" class=\"dataframe\">\n",
       "  <thead>\n",
       "    <tr style=\"text-align: right;\">\n",
       "      <th></th>\n",
       "      <th>GEOID</th>\n",
       "      <th>NAME</th>\n",
       "      <th>POP</th>\n",
       "    </tr>\n",
       "  </thead>\n",
       "  <tbody>\n",
       "    <tr>\n",
       "      <th>1</th>\n",
       "      <td>17031823705</td>\n",
       "      <td>Census Tract 8237.05, Cook County, Illinois</td>\n",
       "      <td>4831</td>\n",
       "    </tr>\n",
       "    <tr>\n",
       "      <th>2</th>\n",
       "      <td>17169970300</td>\n",
       "      <td>Census Tract 9703, Schuyler County, Illinois</td>\n",
       "      <td>1705</td>\n",
       "    </tr>\n",
       "    <tr>\n",
       "      <th>3</th>\n",
       "      <td>17007010400</td>\n",
       "      <td>Census Tract 104, Boone County, Illinois</td>\n",
       "      <td>6720</td>\n",
       "    </tr>\n",
       "    <tr>\n",
       "      <th>4</th>\n",
       "      <td>17031812900</td>\n",
       "      <td>Census Tract 8129, Cook County, Illinois</td>\n",
       "      <td>4579</td>\n",
       "    </tr>\n",
       "    <tr>\n",
       "      <th>5</th>\n",
       "      <td>17043841326</td>\n",
       "      <td>Census Tract 8413.26, DuPage County, Illinois</td>\n",
       "      <td>3153</td>\n",
       "    </tr>\n",
       "    <tr>\n",
       "      <th>...</th>\n",
       "      <td>...</td>\n",
       "      <td>...</td>\n",
       "      <td>...</td>\n",
       "    </tr>\n",
       "    <tr>\n",
       "      <th>3119</th>\n",
       "      <td>17031081700</td>\n",
       "      <td>Census Tract 817, Cook County, Illinois</td>\n",
       "      <td>3831</td>\n",
       "    </tr>\n",
       "    <tr>\n",
       "      <th>3120</th>\n",
       "      <td>17095000100</td>\n",
       "      <td>Census Tract 1, Knox County, Illinois</td>\n",
       "      <td>3011</td>\n",
       "    </tr>\n",
       "    <tr>\n",
       "      <th>3121</th>\n",
       "      <td>17031480400</td>\n",
       "      <td>Census Tract 4804, Cook County, Illinois</td>\n",
       "      <td>5584</td>\n",
       "    </tr>\n",
       "    <tr>\n",
       "      <th>3122</th>\n",
       "      <td>17197880903</td>\n",
       "      <td>Census Tract 8809.03, Will County, Illinois</td>\n",
       "      <td>2617</td>\n",
       "    </tr>\n",
       "    <tr>\n",
       "      <th>3123</th>\n",
       "      <td>17043840904</td>\n",
       "      <td>Census Tract 8409.04, DuPage County, Illinois</td>\n",
       "      <td>4457</td>\n",
       "    </tr>\n",
       "  </tbody>\n",
       "</table>\n",
       "<p>3123 rows × 3 columns</p>\n",
       "</div>"
      ],
      "text/plain": [
       "            GEOID                                           NAME   POP\n",
       "1     17031823705    Census Tract 8237.05, Cook County, Illinois  4831\n",
       "2     17169970300   Census Tract 9703, Schuyler County, Illinois  1705\n",
       "3     17007010400       Census Tract 104, Boone County, Illinois  6720\n",
       "4     17031812900       Census Tract 8129, Cook County, Illinois  4579\n",
       "5     17043841326  Census Tract 8413.26, DuPage County, Illinois  3153\n",
       "...           ...                                            ...   ...\n",
       "3119  17031081700        Census Tract 817, Cook County, Illinois  3831\n",
       "3120  17095000100          Census Tract 1, Knox County, Illinois  3011\n",
       "3121  17031480400       Census Tract 4804, Cook County, Illinois  5584\n",
       "3122  17197880903    Census Tract 8809.03, Will County, Illinois  2617\n",
       "3123  17043840904  Census Tract 8409.04, DuPage County, Illinois  4457\n",
       "\n",
       "[3123 rows x 3 columns]"
      ]
     },
     "execution_count": 5,
     "metadata": {},
     "output_type": "execute_result"
    }
   ],
   "source": [
    "pop = pd.read_csv('2018_Pop_IL.csv')\n",
    "pop = pop.drop(labels = 0)\n",
    "pop.columns = ['GEOID', 'NAME', 'POP', 'ME']\n",
    "pop = pop.loc[:,('GEOID','NAME','POP')]\n",
    "pop.loc[:,'GEOID'] = pop.loc[:,'GEOID'].apply(lambda x : x[9:])\n",
    "pop"
   ]
  },
  {
   "cell_type": "code",
   "execution_count": 6,
   "metadata": {},
   "outputs": [
    {
     "data": {
      "text/html": [
       "<div>\n",
       "<style scoped>\n",
       "    .dataframe tbody tr th:only-of-type {\n",
       "        vertical-align: middle;\n",
       "    }\n",
       "\n",
       "    .dataframe tbody tr th {\n",
       "        vertical-align: top;\n",
       "    }\n",
       "\n",
       "    .dataframe thead th {\n",
       "        text-align: right;\n",
       "    }\n",
       "</style>\n",
       "<table border=\"1\" class=\"dataframe\">\n",
       "  <thead>\n",
       "    <tr style=\"text-align: right;\">\n",
       "      <th></th>\n",
       "      <th>GEOID</th>\n",
       "      <th>geometry</th>\n",
       "    </tr>\n",
       "  </thead>\n",
       "  <tbody>\n",
       "    <tr>\n",
       "      <th>0</th>\n",
       "      <td>17091011700</td>\n",
       "      <td>POINT (-87.87355 41.12949)</td>\n",
       "    </tr>\n",
       "    <tr>\n",
       "      <th>1</th>\n",
       "      <td>17091011800</td>\n",
       "      <td>POINT (-87.87646 41.13978)</td>\n",
       "    </tr>\n",
       "    <tr>\n",
       "      <th>2</th>\n",
       "      <td>17119400951</td>\n",
       "      <td>POINT (-90.09829 38.72763)</td>\n",
       "    </tr>\n",
       "    <tr>\n",
       "      <th>3</th>\n",
       "      <td>17119400952</td>\n",
       "      <td>POINT (-90.08180 38.72984)</td>\n",
       "    </tr>\n",
       "    <tr>\n",
       "      <th>4</th>\n",
       "      <td>17135957500</td>\n",
       "      <td>POINT (-89.60391 39.38915)</td>\n",
       "    </tr>\n",
       "    <tr>\n",
       "      <th>...</th>\n",
       "      <td>...</td>\n",
       "      <td>...</td>\n",
       "    </tr>\n",
       "    <tr>\n",
       "      <th>3118</th>\n",
       "      <td>17037000100</td>\n",
       "      <td>POINT (-88.65253 42.10661)</td>\n",
       "    </tr>\n",
       "    <tr>\n",
       "      <th>3119</th>\n",
       "      <td>17037001500</td>\n",
       "      <td>POINT (-88.73721 41.88417)</td>\n",
       "    </tr>\n",
       "    <tr>\n",
       "      <th>3120</th>\n",
       "      <td>17037000400</td>\n",
       "      <td>POINT (-88.68023 42.02216)</td>\n",
       "    </tr>\n",
       "    <tr>\n",
       "      <th>3121</th>\n",
       "      <td>17037000300</td>\n",
       "      <td>POINT (-88.86924 41.96281)</td>\n",
       "    </tr>\n",
       "    <tr>\n",
       "      <th>3122</th>\n",
       "      <td>17037000200</td>\n",
       "      <td>POINT (-88.82573 42.11145)</td>\n",
       "    </tr>\n",
       "  </tbody>\n",
       "</table>\n",
       "<p>3123 rows × 2 columns</p>\n",
       "</div>"
      ],
      "text/plain": [
       "            GEOID                    geometry\n",
       "0     17091011700  POINT (-87.87355 41.12949)\n",
       "1     17091011800  POINT (-87.87646 41.13978)\n",
       "2     17119400951  POINT (-90.09829 38.72763)\n",
       "3     17119400952  POINT (-90.08180 38.72984)\n",
       "4     17135957500  POINT (-89.60391 39.38915)\n",
       "...           ...                         ...\n",
       "3118  17037000100  POINT (-88.65253 42.10661)\n",
       "3119  17037001500  POINT (-88.73721 41.88417)\n",
       "3120  17037000400  POINT (-88.68023 42.02216)\n",
       "3121  17037000300  POINT (-88.86924 41.96281)\n",
       "3122  17037000200  POINT (-88.82573 42.11145)\n",
       "\n",
       "[3123 rows x 2 columns]"
      ]
     },
     "execution_count": 6,
     "metadata": {},
     "output_type": "execute_result"
    }
   ],
   "source": [
    "import geopandas as gp\n",
    "tracts = gp.read_file('tl_2019_17_tract.shp')\n",
    "tracts = tracts.loc[:,('GEOID','geometry')]\n",
    "centroids = tracts.centroid\n",
    "centroids = centroids.to_crs(epsg = 4326)\n",
    "tracts.geometry = centroids\n",
    "tracts"
   ]
  },
  {
   "cell_type": "code",
   "execution_count": 7,
   "metadata": {},
   "outputs": [
    {
     "data": {
      "text/html": [
       "<div>\n",
       "<style scoped>\n",
       "    .dataframe tbody tr th:only-of-type {\n",
       "        vertical-align: middle;\n",
       "    }\n",
       "\n",
       "    .dataframe tbody tr th {\n",
       "        vertical-align: top;\n",
       "    }\n",
       "\n",
       "    .dataframe thead th {\n",
       "        text-align: right;\n",
       "    }\n",
       "</style>\n",
       "<table border=\"1\" class=\"dataframe\">\n",
       "  <thead>\n",
       "    <tr style=\"text-align: right;\">\n",
       "      <th></th>\n",
       "      <th>GEOID</th>\n",
       "      <th>geometry</th>\n",
       "      <th>NAME</th>\n",
       "      <th>POP</th>\n",
       "    </tr>\n",
       "  </thead>\n",
       "  <tbody>\n",
       "    <tr>\n",
       "      <th>0</th>\n",
       "      <td>17091011700</td>\n",
       "      <td>POINT (-87.87355 41.12949)</td>\n",
       "      <td>Census Tract 117, Kankakee County, Illinois</td>\n",
       "      <td>3688</td>\n",
       "    </tr>\n",
       "    <tr>\n",
       "      <th>1</th>\n",
       "      <td>17091011800</td>\n",
       "      <td>POINT (-87.87646 41.13978)</td>\n",
       "      <td>Census Tract 118, Kankakee County, Illinois</td>\n",
       "      <td>2623</td>\n",
       "    </tr>\n",
       "    <tr>\n",
       "      <th>2</th>\n",
       "      <td>17119400951</td>\n",
       "      <td>POINT (-90.09829 38.72763)</td>\n",
       "      <td>Census Tract 4009.51, Madison County, Illinois</td>\n",
       "      <td>5005</td>\n",
       "    </tr>\n",
       "    <tr>\n",
       "      <th>3</th>\n",
       "      <td>17119400952</td>\n",
       "      <td>POINT (-90.08180 38.72984)</td>\n",
       "      <td>Census Tract 4009.52, Madison County, Illinois</td>\n",
       "      <td>3014</td>\n",
       "    </tr>\n",
       "    <tr>\n",
       "      <th>4</th>\n",
       "      <td>17135957500</td>\n",
       "      <td>POINT (-89.60391 39.38915)</td>\n",
       "      <td>Census Tract 9575, Montgomery County, Illinois</td>\n",
       "      <td>2869</td>\n",
       "    </tr>\n",
       "    <tr>\n",
       "      <th>...</th>\n",
       "      <td>...</td>\n",
       "      <td>...</td>\n",
       "      <td>...</td>\n",
       "      <td>...</td>\n",
       "    </tr>\n",
       "    <tr>\n",
       "      <th>3118</th>\n",
       "      <td>17037000100</td>\n",
       "      <td>POINT (-88.65253 42.10661)</td>\n",
       "      <td>Census Tract 1, DeKalb County, Illinois</td>\n",
       "      <td>6559</td>\n",
       "    </tr>\n",
       "    <tr>\n",
       "      <th>3119</th>\n",
       "      <td>17037001500</td>\n",
       "      <td>POINT (-88.73721 41.88417)</td>\n",
       "      <td>Census Tract 15, DeKalb County, Illinois</td>\n",
       "      <td>3811</td>\n",
       "    </tr>\n",
       "    <tr>\n",
       "      <th>3120</th>\n",
       "      <td>17037000400</td>\n",
       "      <td>POINT (-88.68023 42.02216)</td>\n",
       "      <td>Census Tract 4, DeKalb County, Illinois</td>\n",
       "      <td>9034</td>\n",
       "    </tr>\n",
       "    <tr>\n",
       "      <th>3121</th>\n",
       "      <td>17037000300</td>\n",
       "      <td>POINT (-88.86924 41.96281)</td>\n",
       "      <td>Census Tract 3, DeKalb County, Illinois</td>\n",
       "      <td>2693</td>\n",
       "    </tr>\n",
       "    <tr>\n",
       "      <th>3122</th>\n",
       "      <td>17037000200</td>\n",
       "      <td>POINT (-88.82573 42.11145)</td>\n",
       "      <td>Census Tract 2, DeKalb County, Illinois</td>\n",
       "      <td>5069</td>\n",
       "    </tr>\n",
       "  </tbody>\n",
       "</table>\n",
       "<p>3123 rows × 4 columns</p>\n",
       "</div>"
      ],
      "text/plain": [
       "            GEOID                    geometry  \\\n",
       "0     17091011700  POINT (-87.87355 41.12949)   \n",
       "1     17091011800  POINT (-87.87646 41.13978)   \n",
       "2     17119400951  POINT (-90.09829 38.72763)   \n",
       "3     17119400952  POINT (-90.08180 38.72984)   \n",
       "4     17135957500  POINT (-89.60391 39.38915)   \n",
       "...           ...                         ...   \n",
       "3118  17037000100  POINT (-88.65253 42.10661)   \n",
       "3119  17037001500  POINT (-88.73721 41.88417)   \n",
       "3120  17037000400  POINT (-88.68023 42.02216)   \n",
       "3121  17037000300  POINT (-88.86924 41.96281)   \n",
       "3122  17037000200  POINT (-88.82573 42.11145)   \n",
       "\n",
       "                                                NAME   POP  \n",
       "0        Census Tract 117, Kankakee County, Illinois  3688  \n",
       "1        Census Tract 118, Kankakee County, Illinois  2623  \n",
       "2     Census Tract 4009.51, Madison County, Illinois  5005  \n",
       "3     Census Tract 4009.52, Madison County, Illinois  3014  \n",
       "4     Census Tract 9575, Montgomery County, Illinois  2869  \n",
       "...                                              ...   ...  \n",
       "3118         Census Tract 1, DeKalb County, Illinois  6559  \n",
       "3119        Census Tract 15, DeKalb County, Illinois  3811  \n",
       "3120         Census Tract 4, DeKalb County, Illinois  9034  \n",
       "3121         Census Tract 3, DeKalb County, Illinois  2693  \n",
       "3122         Census Tract 2, DeKalb County, Illinois  5069  \n",
       "\n",
       "[3123 rows x 4 columns]"
      ]
     },
     "execution_count": 7,
     "metadata": {},
     "output_type": "execute_result"
    }
   ],
   "source": [
    "merged = tracts.merge(pop, on = 'GEOID')\n",
    "merged.to_file('merged.shp')\n",
    "merged"
   ]
  },
  {
   "cell_type": "code",
   "execution_count": 212,
   "metadata": {},
   "outputs": [],
   "source": [
    "# populate horizontal header for matrix\n",
    "import numpy as np\n",
    "import math\n",
    "matrix = []\n",
    "row = []\n",
    "row.append(0)\n",
    "h = merged.loc[:,'GEOID'].astype(np.int64).values.tolist() # horizontal header\n",
    "row = row + h\n",
    "matrix.append(row)"
   ]
  },
  {
   "cell_type": "code",
   "execution_count": 213,
   "metadata": {},
   "outputs": [],
   "source": [
    "# populate rest of the rows\n",
    "centroids = merged.loc[:,'geometry']\n",
    "pop = merged.loc[:, 'POP'].astype(np.int64)\n",
    "length = len(merged)\n",
    "for i in range(length):\n",
    "    row = []\n",
    "    row.append(merged.loc[:,'GEOID'].astype(np.int64).iloc[i]) # vertical header for matrix\n",
    "    for j in range(length):\n",
    "        first = centroids.iloc[i]\n",
    "        second = centroids.iloc[j]\n",
    "        dist = getDistanceFromLatLonInMiles(first.y, first.x, second.y, second.x)\n",
    "        gravity = math.inf if dist == 0 else pop.iloc[i] * pop.iloc[j] /(dist ** 2)\n",
    "        row.append(gravity)\n",
    "    matrix.append(row)"
   ]
  },
  {
   "cell_type": "code",
   "execution_count": 214,
   "metadata": {},
   "outputs": [],
   "source": [
    "# export the matrix to an excel file\n",
    "\n",
    "import pandas as pd\n",
    "mdf = pd.DataFrame(matrix)\n",
    "writer = pd.ExcelWriter('gravity_model_matrix.xlsx', engine='xlsxwriter')\n",
    "mdf.to_excel(writer,sheet_name='gravity model matrix',index=False)\n",
    "writer.save()"
   ]
  },
  {
   "cell_type": "code",
   "execution_count": 54,
   "metadata": {},
   "outputs": [
    {
     "data": {
      "text/plain": [
       "[[-87.8735501307837,\n",
       "  41.129489299336534,\n",
       "  -87.8764599954012,\n",
       "  41.139776758646406,\n",
       "  18315755.915455572],\n",
       " [-87.8735501307837,\n",
       "  41.129489299336534,\n",
       "  -90.09829358278783,\n",
       "  38.72762946159417,\n",
       "  445.5566481421516],\n",
       " [-87.8735501307837,\n",
       "  41.129489299336534,\n",
       "  -90.08179943088005,\n",
       "  38.729837798131015,\n",
       "  269.98287567167245],\n",
       " [-87.8735501307837,\n",
       "  41.129489299336534,\n",
       "  -89.60390631764184,\n",
       "  39.38914905372138,\n",
       "  464.4628577308046],\n",
       " [-87.8764599954012,\n",
       "  41.139776758646406,\n",
       "  -90.09829358278783,\n",
       "  38.72762946159417,\n",
       "  315.3840922567502],\n",
       " [-87.8764599954012,\n",
       "  41.139776758646406,\n",
       "  -90.08179943088005,\n",
       "  38.729837798131015,\n",
       "  191.09940172336692],\n",
       " [-87.8764599954012,\n",
       "  41.139776758646406,\n",
       "  -89.60390631764184,\n",
       "  39.38914905372138,\n",
       "  328.2887345388124],\n",
       " [-90.09829358278783,\n",
       "  38.72762946159417,\n",
       "  -90.08179943088005,\n",
       "  38.729837798131015,\n",
       "  18539118.89829992],\n",
       " [-90.09829358278783,\n",
       "  38.72762946159417,\n",
       "  -89.60390631764184,\n",
       "  39.38914905372138,\n",
       "  5141.9002286964715],\n",
       " [-90.08179943088005,\n",
       "  38.729837798131015,\n",
       "  -89.60390631764184,\n",
       "  39.38914905372138,\n",
       "  3164.5510884135133]]"
      ]
     },
     "execution_count": 54,
     "metadata": {},
     "output_type": "execute_result"
    }
   ],
   "source": [
    "from itertools import combinations\n",
    "# START_X, START_Y, END_X, END_Y, GRAVITATION\n",
    "\n",
    "flow = []\n",
    "for elem in list(combinations(merged.values,2)):\n",
    "    row = []\n",
    "    start = elem[0][1]     # 1's index is point\n",
    "    end = elem[1][1]       # 1's index is point\n",
    "    row.append(start.x)\n",
    "    row.append(start.y)\n",
    "    row.append(end.x)\n",
    "    row.append(end.y)\n",
    "    d = getDistanceFromLatLonInMiles(start.y, start.x, end.y, end.x)\n",
    "    pop1 = (int) (elem[0][-1])     # last index is pop\n",
    "    pop2 = (int) (elem[1][-1])     # last index is pop\n",
    "    gravity = pop1 * pop2 /(d ** 2)\n",
    "    row.append(gravity)\n",
    "    flow.append(row)"
   ]
  },
  {
   "cell_type": "markdown",
   "metadata": {},
   "source": [
    "Test Cases:"
   ]
  },
  {
   "cell_type": "code",
   "execution_count": null,
   "metadata": {},
   "outputs": [],
   "source": [
    "pop117 = merged[merged['GEOID'].values == '17091011700'].loc[:,'POP'].astype(np.int64).iloc[-1]\n",
    "pop117"
   ]
  },
  {
   "cell_type": "code",
   "execution_count": 177,
   "metadata": {},
   "outputs": [
    {
     "data": {
      "text/plain": [
       "2623"
      ]
     },
     "execution_count": 177,
     "metadata": {},
     "output_type": "execute_result"
    }
   ],
   "source": [
    "pop118 = merged[merged['GEOID'].values == '17091011800'].loc[:,'POP'].astype(np.int64).iloc[-1]\n",
    "pop118"
   ]
  },
  {
   "cell_type": "code",
   "execution_count": 194,
   "metadata": {},
   "outputs": [
    {
     "data": {
      "image/svg+xml": [
       "<svg xmlns=\"http://www.w3.org/2000/svg\" xmlns:xlink=\"http://www.w3.org/1999/xlink\" width=\"100.0\" height=\"100.0\" viewBox=\"-88.8735501307837 40.129489299336534 2.0 2.0\" preserveAspectRatio=\"xMinYMin meet\"><g transform=\"matrix(1,0,0,-1,0,82.25897859867307)\"><circle cx=\"-87.8735501307837\" cy=\"41.129489299336534\" r=\"0.06\" stroke=\"#555555\" stroke-width=\"0.02\" fill=\"#66cc99\" opacity=\"0.6\" /></g></svg>"
      ],
      "text/plain": [
       "<shapely.geometry.point.Point at 0x2250c477580>"
      ]
     },
     "execution_count": 194,
     "metadata": {},
     "output_type": "execute_result"
    }
   ],
   "source": [
    "first = merged[merged['GEOID'].values == '17091011700'].loc[:,'geometry'].iloc[0]\n",
    "first"
   ]
  },
  {
   "cell_type": "code",
   "execution_count": 195,
   "metadata": {},
   "outputs": [
    {
     "data": {
      "image/svg+xml": [
       "<svg xmlns=\"http://www.w3.org/2000/svg\" xmlns:xlink=\"http://www.w3.org/1999/xlink\" width=\"100.0\" height=\"100.0\" viewBox=\"-88.8764599954012 40.139776758646406 2.0 2.0\" preserveAspectRatio=\"xMinYMin meet\"><g transform=\"matrix(1,0,0,-1,0,82.27955351729281)\"><circle cx=\"-87.8764599954012\" cy=\"41.139776758646406\" r=\"0.06\" stroke=\"#555555\" stroke-width=\"0.02\" fill=\"#66cc99\" opacity=\"0.6\" /></g></svg>"
      ],
      "text/plain": [
       "<shapely.geometry.point.Point at 0x2250c477610>"
      ]
     },
     "execution_count": 195,
     "metadata": {},
     "output_type": "execute_result"
    }
   ],
   "source": [
    "second = merged[merged['GEOID'].values == '17091011800'].loc[:,'geometry'].iloc[0]\n",
    "second"
   ]
  },
  {
   "cell_type": "code",
   "execution_count": 196,
   "metadata": {},
   "outputs": [
    {
     "data": {
      "text/plain": [
       "0.726745209738065"
      ]
     },
     "execution_count": 196,
     "metadata": {},
     "output_type": "execute_result"
    }
   ],
   "source": [
    "d0 = getDistanceFromLatLonInMiles(first.y, first.x, second.y, second.x)\n",
    "d0"
   ]
  },
  {
   "cell_type": "code",
   "execution_count": 198,
   "metadata": {},
   "outputs": [
    {
     "data": {
      "text/plain": [
       "18315755.915455572"
      ]
     },
     "execution_count": 198,
     "metadata": {},
     "output_type": "execute_result"
    }
   ],
   "source": [
    "gravity = pop117 * pop118 / (d0 ** 2)\n",
    "gravity"
   ]
  },
  {
   "cell_type": "code",
   "execution_count": null,
   "metadata": {},
   "outputs": [],
   "source": []
  }
 ],
 "metadata": {
  "kernelspec": {
   "display_name": "Python 3",
   "language": "python",
   "name": "python3"
  },
  "language_info": {
   "codemirror_mode": {
    "name": "ipython",
    "version": 3
   },
   "file_extension": ".py",
   "mimetype": "text/x-python",
   "name": "python",
   "nbconvert_exporter": "python",
   "pygments_lexer": "ipython3",
   "version": "3.8.3"
  }
 },
 "nbformat": 4,
 "nbformat_minor": 4
}
